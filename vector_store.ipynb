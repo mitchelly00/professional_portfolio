{
 "cells": [
  {
   "cell_type": "markdown",
   "metadata": {},
   "source": [
    "# Creating the Vector store"
   ]
  },
  {
   "cell_type": "markdown",
   "metadata": {},
   "source": [
    "### Creating the Vector store and load in the documents"
   ]
  },
  {
   "cell_type": "code",
   "execution_count": 2,
   "metadata": {},
   "outputs": [],
   "source": [
    "from langchain.document_loaders import TextLoader\n",
    "from langchain.embeddings.openai import OpenAIEmbeddings\n",
    "from langchain.text_splitter import CharacterTextSplitter\n",
    "from langchain.vectorstores import FAISS\n",
    "import os\n",
    "from langchain.document_loaders import PyPDFLoader"
   ]
  },
  {
   "cell_type": "code",
   "execution_count": 3,
   "metadata": {},
   "outputs": [],
   "source": [
    "#import PDF documents\n",
    "directory = 'documents'\n",
    "raw_docs = []\n",
    " \n",
    "# iterate over files directory\n",
    "for filename in os.listdir(directory):\n",
    "    f = os.path.join(directory, filename)\n",
    "    # checking if it is a file\n",
    "    if os.path.isfile(f):\n",
    "        loader = PyPDFLoader(f)\n",
    "        raw_docs.extend(loader.load())"
   ]
  },
  {
   "cell_type": "code",
   "execution_count": 4,
   "metadata": {},
   "outputs": [
    {
     "data": {
      "text/plain": [
       "Document(page_content=' \\n \\n  UCWDC® Rules,  \\nContest Procedures  \\nand Scoring Format  \\n2023 - 2025 \\nCOUPLES  \\n \\nUNITED COUNTRY WESTERN DANCE COUNCIL\\uf0d2  \\nCOPYRIGHT 1987,  REVISED 2023 ', metadata={'source': 'documents\\\\UCWDC Rules_Couples_VERIFIED_FINAL V2.pdf', 'page': 0})"
      ]
     },
     "execution_count": 4,
     "metadata": {},
     "output_type": "execute_result"
    }
   ],
   "source": [
    "#previewing the documents in the list\n",
    "raw_docs[0]"
   ]
  },
  {
   "cell_type": "code",
   "execution_count": 5,
   "metadata": {},
   "outputs": [],
   "source": [
    "# Load the document, split it into chunks, embed each chunk and load it into the vector store.\n",
    "#raw_documents = TextLoader(r\"documents\\UCWDC Rules_Line Dance.pdf\").load()\n",
    "text_splitter = CharacterTextSplitter(chunk_size=500, chunk_overlap=100)\n",
    "documents = text_splitter.split_documents(raw_docs)\n",
    "db = FAISS.from_documents(documents, OpenAIEmbeddings())"
   ]
  },
  {
   "cell_type": "code",
   "execution_count": 6,
   "metadata": {},
   "outputs": [],
   "source": [
    "db.save_local(\"FAISS_Country\")"
   ]
  },
  {
   "cell_type": "markdown",
   "metadata": {},
   "source": [
    "### Testing it with some code"
   ]
  },
  {
   "cell_type": "code",
   "execution_count": 7,
   "metadata": {},
   "outputs": [],
   "source": [
    "from langchain.memory import ConversationSummaryMemory"
   ]
  },
  {
   "cell_type": "code",
   "execution_count": 10,
   "metadata": {},
   "outputs": [],
   "source": [
    "llm = ChatOpenAI()"
   ]
  },
  {
   "cell_type": "code",
   "execution_count": 11,
   "metadata": {},
   "outputs": [],
   "source": [
    "memory = ConversationSummaryMemory(\n",
    "    llm=llm, memory_key=\"chat_history\", return_messages=True\n",
    ")"
   ]
  },
  {
   "cell_type": "code",
   "execution_count": 12,
   "metadata": {},
   "outputs": [],
   "source": [
    "from langchain.chains import ConversationalRetrievalChain\n",
    "from langchain.chat_models import ChatOpenAI\n",
    "\n",
    "llm = ChatOpenAI()\n",
    "retriever = db.as_retriever()\n",
    "qa = ConversationalRetrievalChain.from_llm(llm, retriever=retriever, memory=memory)"
   ]
  },
  {
   "cell_type": "code",
   "execution_count": 14,
   "metadata": {},
   "outputs": [
    {
     "data": {
      "text/plain": [
       "{'question': 'what is waltz',\n",
       " 'chat_history': [SystemMessage(content='', additional_kwargs={})],\n",
       " 'answer': 'The waltz is a smooth, progressive dance that uses patterns that move diagonally and are performed with rise and fall, accentuated with swing and sway, emphasizing hover. The basic timing for the waltz is 1 2 3 4 5 6.'}"
      ]
     },
     "execution_count": 14,
     "metadata": {},
     "output_type": "execute_result"
    }
   ],
   "source": [
    "qa(\"what is waltz\")"
   ]
  },
  {
   "cell_type": "code",
   "execution_count": 15,
   "metadata": {},
   "outputs": [],
   "source": [
    "def handle_userinput1(user_question):\n",
    "    response = qa({\"question\": user_question})\n",
    "    chat_history = response['answer']\n",
    "    return chat_history"
   ]
  },
  {
   "cell_type": "code",
   "execution_count": 16,
   "metadata": {},
   "outputs": [
    {
     "data": {
      "text/plain": [
       "{'question': 'How many line dance categories are there',\n",
       " 'chat_history': [SystemMessage(content='The human asks what the AI thinks of artificial intelligence. The AI thinks artificial intelligence is a force for good because it will help humans reach their full potential.\\n\\nThe human asks the AI about the waltz. The AI explains that the waltz is a smooth, progressive dance that uses specific patterns and timing.', additional_kwargs={})],\n",
       " 'answer': 'There are six categories for line dances: Rise & Fall, Pulse, Smooth, Cuban, Funky/Street, and Novelty/Stage.'}"
      ]
     },
     "execution_count": 16,
     "metadata": {},
     "output_type": "execute_result"
    }
   ],
   "source": [
    "qa(\"How many line dance categories are there\")"
   ]
  },
  {
   "cell_type": "code",
   "execution_count": 17,
   "metadata": {},
   "outputs": [
    {
     "name": "stderr",
     "output_type": "stream",
     "text": [
      "Retrying langchain.embeddings.openai.embed_with_retry.<locals>._embed_with_retry in 4.0 seconds as it raised APIError: The server had an error while processing your request. Sorry about that! You can retry your request, or contact us through our help center at help.openai.com if the error persists. (Please include the request ID req_060da41ed4718893ccd34469f7ecaaf5 in your message.) {\n",
      "  \"error\": {\n",
      "    \"message\": \"The server had an error while processing your request. Sorry about that! You can retry your request, or contact us through our help center at help.openai.com if the error persists. (Please include the request ID req_060da41ed4718893ccd34469f7ecaaf5 in your message.)\",\n",
      "    \"type\": \"server_error\",\n",
      "    \"param\": null,\n",
      "    \"code\": null\n",
      "  }\n",
      "}\n",
      " 500 {'error': {'message': 'The server had an error while processing your request. Sorry about that! You can retry your request, or contact us through our help center at help.openai.com if the error persists. (Please include the request ID req_060da41ed4718893ccd34469f7ecaaf5 in your message.)', 'type': 'server_error', 'param': None, 'code': None}} {'Date': 'Sat, 10 Feb 2024 19:34:57 GMT', 'Content-Type': 'application/json', 'Content-Length': '370', 'Connection': 'keep-alive', 'access-control-allow-origin': '*', 'openai-model': 'text-embedding-ada-002', 'openai-organization': 'user-b66mce9l0nlrzxqj4prfemcz', 'openai-processing-ms': '90009', 'openai-version': '2020-10-01', 'strict-transport-security': 'max-age=15724800; includeSubDomains', 'x-ratelimit-limit-requests': '5000', 'x-ratelimit-limit-tokens': '5000000', 'x-ratelimit-remaining-requests': '4999', 'x-ratelimit-remaining-tokens': '4999992', 'x-ratelimit-reset-requests': '12ms', 'x-ratelimit-reset-tokens': '0s', 'x-request-id': 'req_060da41ed4718893ccd34469f7ecaaf5', 'CF-Cache-Status': 'DYNAMIC', 'Server': 'cloudflare', 'CF-RAY': '8536c8b1498916cc-IAH', 'alt-svc': 'h3=\":443\"; ma=86400'}.\n"
     ]
    },
    {
     "data": {
      "text/plain": [
       "'No, aerials are not allowed in line dances according to the UCWDC Dance Rules.'"
      ]
     },
     "execution_count": 17,
     "metadata": {},
     "output_type": "execute_result"
    }
   ],
   "source": [
    "handle_userinput1(\"are arials allowed?\")"
   ]
  },
  {
   "cell_type": "code",
   "execution_count": 80,
   "metadata": {},
   "outputs": [
    {
     "name": "stdout",
     "output_type": "stream",
     "text": [
      "- \n",
      "UCWDC Dance Rules, Contest Procedures and Scoring Format – LINE DANCE              Page 6 of 16 c. Movement allowances and limitations for Line Dance Showcase and Solo Medleys within SuperStars, \n",
      "RisingStars , and Crown : \n",
      "i. A competitor  may begin the dance facing any direction of his or her choosing and may begin \n",
      "the dance at any time . \n",
      "ii. In Line Dance Showcase, a competitor  must dance repetitive patter ns according to the \n",
      "phrasing of the music.  \n",
      "iii. Aerials are not allowed in Crown  Solo Medley  \n",
      "iv. There are no movement limitations in SuperStars and RisingStars  Solo Medley . \n",
      " \n",
      "H. Floor Craft  \n",
      "1. For all dances, competitor s shall  always be courteous on the floor , as well as vigilant so as not to interfere \n",
      "with other competitor s. \n",
      "2. For Line Dance categories, once the competitor s evenly space or stagger themselves on the floor relative to \n",
      "each other, everyone’s “dance space” is revealed. Competitor s should perform to  reasonable maintain their \n",
      "relative position on the floor  and go with the Flow of Dance according to the basic dance description \n",
      "throughout the  dance . Even when performing variations, Flow of Dance must be maintained.  Even when \n",
      "performing variations, Flow of Dance must be maintained.  Dancers  in the back line or the front line may not \n",
      "move to the other line.  \n",
      " \n",
      "I. Costuming  and Props  \n",
      "1. Competitors in all Divisions except Newcome r must wear:  \n",
      "a. Country costumes are not required in Line Dances that are danced to non-country music. The Step \n",
      "Descriptions will indicate whether the dance is country or non -country  \n",
      "b. Traditional looking cowboy boots  with a pull strap, stitching , and at least 1 .25” (1.25 in / 3.175 cm) \n",
      "heel from top of heel to floor and at least 7” ( 7 in/17.78 cm ) shaft from top of heel to top of shaft. \n",
      "Acceptable heel styles include  Cowboy, Riding, Walking, Roper Straight,  Roper Pitched, Fowler \n",
      "Straight, and Fowler Pitched. Fashion heels are not acceptabl e. \n",
      "i. Newcomer competitors are encouraged but not required to wear boots except at the \n",
      "Country Dance World Championships, where boots are required for all levels.  \n",
      "ii. Junior comp etitors may not wear boots or other footwear with more than a 1.5 inch/3.75 \n",
      "centimeter heel.  \n",
      "c. Newcomer competitors are encouraged but not required to wear boots  and traditional looking \n",
      "cowboy hats  (for Males)  in all Country Dances, except at The Country Dan ce World Championships, \n",
      "where boots and traditional looking cowboy hats (for Males) are required for all levels.  \n",
      "d. Dance pants (under -shorts) for any dancer whose buttocks may be revealed during a dance \n",
      "performance.  \n",
      "2. Sponsored logos on costumes are allowed if they are no larger than 5 inches by 5 inches (12.7 centimeter s \n",
      "by 12.7 centimeter s) in dimension per article of clothing. Logos should be tasteful and not detract from the \n",
      "costume.  \n",
      "3. The entire visual look of the performance is judged , including c ostuming as well as steps . Therefore,  how a \n",
      "competitor  presents oneself  for performance is part of the final placement on every judge’s ballot, in every \n",
      "dance, according to the style and story of the dance.  \n",
      "4. Competitors in SuperStars, SuperStars Plus, Risin gStars, Crown and Crown Plus who ch oose to discard parts \n",
      "of costumes (i.e. skirts or vests) during their performance cannot leave discarded articles on the dance floor \n",
      "where they may impede other competitors. All discarded articles must be removed by the c ompetitor at the \n",
      "end of the performance.  \n",
      "5. A prop is any item  that is not normally w orn as clothing. Props are allowed in RisingStars, SuperStars, \n",
      "SuperStars Plus, Crown, and Crown Plus .  Props must be portable, not living, and delivered to and removed \n",
      "from the performance arena only by the competitor s. Performers and props must not touch audience\n"
     ]
    }
   ],
   "source": [
    "query = \"Are arials allowed\"\n",
    "docs = db.similarity_search(query)\n",
    "print(docs[1].page_content)"
   ]
  }
 ],
 "metadata": {
  "kernelspec": {
   "display_name": "venv",
   "language": "python",
   "name": "python3"
  },
  "language_info": {
   "codemirror_mode": {
    "name": "ipython",
    "version": 3
   },
   "file_extension": ".py",
   "mimetype": "text/x-python",
   "name": "python",
   "nbconvert_exporter": "python",
   "pygments_lexer": "ipython3",
   "version": "3.10.11"
  },
  "orig_nbformat": 4
 },
 "nbformat": 4,
 "nbformat_minor": 2
}
